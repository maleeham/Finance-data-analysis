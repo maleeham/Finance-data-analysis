{
  "cells": [
    {
      "metadata": {
        "_uuid": "d8eff8089de4a7923ba518d27b5b00dd5d5e57d6"
      },
      "cell_type": "markdown",
      "source": "___\n\n<a href='http://www.pieriandata.com'> <img src='../Pierian_Data_Logo.png' /></a>\n___"
    },
    {
      "metadata": {
        "_uuid": "fbea05e113c95e5570075b1f670eff1af09a1827"
      },
      "cell_type": "markdown",
      "source": "# Finance Data Project \n\nThis is my second data capstone project for my Udemy Data Science and ML Bootcamp. In this data project I will focus on exploratory data analysis of stock prices. Keep in mind, this project is just meant to practice my visualization and pandas skills, it is not meant to be a robust financial analysis or be taken as financial advice.\n____\nI'll be focusing on bank stocks and see how they progressed throughout the [financial crisis](https://en.wikipedia.org/wiki/Financial_crisis_of_2007%E2%80%9308) all the way to early 2016."
    },
    {
      "metadata": {
        "_uuid": "b6b418ff1b636a0f8ba752dd1a78988c998260f2"
      },
      "cell_type": "markdown",
      "source": "\nIn this project I will be using pandas to directly read data from yahoo finance using pandas!\n\n"
    },
    {
      "metadata": {
        "_uuid": "c435f90b165f98ed540cb473267873f524679fa5",
        "trusted": false
      },
      "cell_type": "code",
      "source": "import pandas as pd\nimport numpy as np\nimport datetime\n%matplotlib inline",
      "execution_count": null,
      "outputs": []
    },
    {
      "metadata": {
        "_uuid": "db526bf44db0c1a63d67d8a54196003dc333946b"
      },
      "cell_type": "markdown",
      "source": "## Data\n\nWe will get stock information for the following banks:\n*  Bank of America\n* CitiGroup\n* Goldman Sachs\n* JPMorgan Chase\n* Morgan Stanley\n* Wells Fargo\n\nI will be using stock data from Jan 1st 2006 to Jan 1st 2016 for each of these banks. "
    },
    {
      "metadata": {
        "collapsed": true,
        "_uuid": "c16c9f4c4284f1c027d036579739386c5565ba08",
        "trusted": false
      },
      "cell_type": "code",
      "source": "bank_stocks = pd.read_pickle('../input/all_banks')",
      "execution_count": null,
      "outputs": []
    },
    {
      "metadata": {
        "collapsed": true,
        "_uuid": "75b05f022222aac08f32b01a56758cd3a70a0ae9",
        "trusted": false
      },
      "cell_type": "code",
      "source": "tickers = ['BAC', 'C', 'GS', 'JPM', 'MS', 'WFC']",
      "execution_count": null,
      "outputs": []
    },
    {
      "metadata": {
        "_uuid": "4d5ce1e71777811d185e0ceecb4f65d861cdd98c",
        "trusted": false
      },
      "cell_type": "code",
      "source": "bank_stocks.head()",
      "execution_count": null,
      "outputs": []
    },
    {
      "metadata": {
        "_uuid": "308d5026a6a8df87f29d80b4c47217b3ef1e0f54"
      },
      "cell_type": "markdown",
      "source": "# EDA\n\nLet's explore the data a bit and try to answer some basic questions\n\n** What is the max Close price for each bank's stock throughout the time period?**"
    },
    {
      "metadata": {
        "_uuid": "ed7427a35ae26cb44e82c10b32b51fe6f550896d",
        "trusted": false
      },
      "cell_type": "code",
      "source": "bank_stocks.xs('Close', level=1, axis=1).max()",
      "execution_count": null,
      "outputs": []
    },
    {
      "metadata": {
        "_uuid": "910383fb14b61b92c07c799862c91ada5f5014ec"
      },
      "cell_type": "markdown",
      "source": "** I'm going to create a new empty DataFrame called returns. This dataframe will contain the returns for each bank's stock. returns are typically defined by:**\n\n$$r_t = \\frac{p_t - p_{t-1}}{p_{t-1}} = \\frac{p_t}{p_{t-1}} - 1$$"
    },
    {
      "metadata": {
        "collapsed": true,
        "_uuid": "beea6c9bee2b46fd85fdbae9a7583d8cec087d92",
        "trusted": false
      },
      "cell_type": "code",
      "source": "returns = pd.DataFrame()",
      "execution_count": null,
      "outputs": []
    },
    {
      "metadata": {
        "_uuid": "f8233e6f0db60d7134220d54d70a972c0c5cc310"
      },
      "cell_type": "markdown",
      "source": "** We can use pandas pct_change() method on the Close column to create a column representing this return value. **"
    },
    {
      "metadata": {
        "_uuid": "2200ffd768b52620329959afad6d7dd50d25ce73",
        "trusted": false
      },
      "cell_type": "code",
      "source": "for x in tickers:\n    returns[x + ' Return'] = bank_stocks.xs('Close',axis=1,level=1)[x].pct_change()\nreturns.head()",
      "execution_count": null,
      "outputs": []
    },
    {
      "metadata": {
        "collapsed": true,
        "_uuid": "b7bba81b93728ced8331988ac30fd3ff7fc6695f",
        "trusted": false
      },
      "cell_type": "code",
      "source": "import seaborn as sns\nsns.set_style('whitegrid')",
      "execution_count": null,
      "outputs": []
    },
    {
      "metadata": {
        "_uuid": "20e0770d611f593de86ea798365ccc5d7c935b6e",
        "trusted": false
      },
      "cell_type": "code",
      "source": "sns.pairplot(returns[1:])",
      "execution_count": null,
      "outputs": []
    },
    {
      "metadata": {
        "_uuid": "4e44ce778bd58661eba01ef812ec4ba5616b0129"
      },
      "cell_type": "markdown",
      "source": "In the above figure Citigroup's stock clearly stands out.This behavior was due their stock crashing during the financial crisis.\nA background on [Citigroup's Stock Crash is available here.](https://en.wikipedia.org/wiki/Citigroup#November_2008.2C_Collapse_.26_US_Government_Intervention_.28part_of_the_Global_Financial_Crisis.29) \n\nYou'll also see the enormous crash in value if you take a look at the stock price plot (which we do later in the visualizations.)"
    },
    {
      "metadata": {
        "_uuid": "f585394ca46c2cbdef78a0ebbdf1bf4956245a0b"
      },
      "cell_type": "markdown",
      "source": "** Using this returns DataFrame, lets try to figure out on what dates each bank stock had the best and worst single day returns. **"
    },
    {
      "metadata": {
        "_uuid": "3dd2cc660744661ec68373fb2305a7f07dbecf36",
        "trusted": false
      },
      "cell_type": "code",
      "source": "returns.idxmin()",
      "execution_count": null,
      "outputs": []
    },
    {
      "metadata": {
        "_uuid": "2beb35b43e32de0fd7cdef2e63c40c2c329b1e47"
      },
      "cell_type": "markdown",
      "source": "You can notice that 4 of the banks share the same day for the worst drop. This occured on Inauguration Day when Barack Obama took office."
    },
    {
      "metadata": {
        "_uuid": "b66bcfaa9bda9813a949a157db8790e27b373625",
        "trusted": false
      },
      "cell_type": "code",
      "source": "returns.idxmax()",
      "execution_count": null,
      "outputs": []
    },
    {
      "metadata": {
        "_uuid": "0a2f0f5e83a4e404d59aff07e4261c1147a78504"
      },
      "cell_type": "markdown",
      "source": "You should have noticed that Citigroup's largest drop and biggest gain were very close to one another. This was because [Citigroup had a stock split](https://www.google.com/webhp?sourceid=chrome-instant&ion=1&espv=2&ie=UTF-8#q=citigroup+stock+2011+may) in May 2011. Even JP Morgan had a stock split, one day after Inauguration day."
    },
    {
      "metadata": {
        "_uuid": "b537f7f8e6f7060ddcccbb71b85da754493d0a67",
        "trusted": false
      },
      "cell_type": "code",
      "source": "returns.std() ",
      "execution_count": null,
      "outputs": []
    },
    {
      "metadata": {
        "_uuid": "8ae395c43699e8c61ac8f5a6a87adafc183a0a0c"
      },
      "cell_type": "markdown",
      "source": "Take a look at the standard deviation of the returns, clearly Citigroup is the riskiest due to greater deviation. However after the Financial Crisis you can see that all banks had a very similar risk profiles."
    },
    {
      "metadata": {
        "_uuid": "5fea6561b45a71f9ae5026beba44fcf17c385348",
        "trusted": false
      },
      "cell_type": "code",
      "source": "returns.loc['2015-01-01':'2015-12-31'].std()",
      "execution_count": null,
      "outputs": []
    },
    {
      "metadata": {
        "_uuid": "9e757c2c7611ab57b916d151fb0329ecb016fbc7",
        "trusted": false
      },
      "cell_type": "code",
      "source": "sns.distplot(returns.loc['2015-01-01':'2015-12-31']['MS Return'],bins=100,color='green')",
      "execution_count": null,
      "outputs": []
    },
    {
      "metadata": {
        "_uuid": "52a2a26c18be9128960f6288661c0d26508fe10a",
        "trusted": false
      },
      "cell_type": "code",
      "source": "sns.distplot(returns.loc['2008-01-01':'2008-12-31']['C Return'],bins=100,color='red')",
      "execution_count": null,
      "outputs": []
    },
    {
      "metadata": {
        "_uuid": "420a515ff7188700b46069dfa107f1d236966491"
      },
      "cell_type": "markdown",
      "source": "____\n# More Visualization"
    },
    {
      "metadata": {
        "_uuid": "880066e2e0c2c711b8b9e09f05d6b07f2a38d8b9",
        "trusted": false
      },
      "cell_type": "code",
      "source": "import matplotlib.pyplot as plt\nimport seaborn as sns\nsns.set_style('whitegrid')\n%matplotlib inline\n\n# Optional Plotly Method Imports\nfrom plotly import __version__",
      "execution_count": null,
      "outputs": []
    },
    {
      "metadata": {
        "collapsed": true,
        "_uuid": "92d72189c405d2b926a6cda63d2ce9fb0903f024",
        "trusted": false
      },
      "cell_type": "code",
      "source": "from plotly.offline import download_plotlyjs,init_notebook_mode,plot,iplot",
      "execution_count": null,
      "outputs": []
    },
    {
      "metadata": {
        "_uuid": "e3376f8291b4176e263d9cf0fd4bfa0b473e9177",
        "trusted": false
      },
      "cell_type": "code",
      "source": "init_notebook_mode(connected=True)",
      "execution_count": null,
      "outputs": []
    },
    {
      "metadata": {
        "_uuid": "df1307d6fb4e3b47ff856f3e133c64350af31b55",
        "trusted": false
      },
      "cell_type": "code",
      "source": "bank_stocks.xs('Close',axis=1,level=1).plot(figsize=(12,5))",
      "execution_count": null,
      "outputs": []
    },
    {
      "metadata": {
        "_uuid": "b6dc2b316d056f82df6e372fa096cc694c4a5f08"
      },
      "cell_type": "markdown",
      "source": "In the above figure you can clearly see the enormous crash in value of Citigroup's stock."
    },
    {
      "metadata": {
        "_uuid": "fd0d57ba370f963ef528800a7eee98c1fc6252d0"
      },
      "cell_type": "markdown",
      "source": "## Moving Averages\n\nLet's analyze the moving averages for these stocks in the year 2008. \n"
    },
    {
      "metadata": {
        "_uuid": "1552feecb284e0114b66ca6c8bbc7c469215e6f8",
        "trusted": false
      },
      "cell_type": "code",
      "source": "bank_stocks.loc['2008-01-01':'2008-12-31'].xs('Close',axis=1,level=1)['BAC'].plot(figsize=(12,6),label='BofA Close')\nrolling_avg = pd.DataFrame()\nrolling_avg['30 Day Avg'] = bank_stocks.loc['2008-01-01':'2008-12-31'].xs('Close',axis=1,level=1)['BAC'].rolling(window=30).mean()\nrolling_avg['30 Day Avg'].plot(figsize=(12,6),label='30 Day Avg')\nplt.legend()",
      "execution_count": null,
      "outputs": []
    },
    {
      "metadata": {
        "_uuid": "e3903d34155aad98cf918c4cef53d3aa57d4b394",
        "trusted": false
      },
      "cell_type": "code",
      "source": "sns.heatmap(bank_stocks.xs('Close',axis=1,level=1).corr(),annot=True,cmap='Blues')",
      "execution_count": null,
      "outputs": []
    },
    {
      "metadata": {
        "_uuid": "3d24d3a31c1154198386f5e2815a8ab6e003af76",
        "trusted": false
      },
      "cell_type": "code",
      "source": "sns.clustermap(bank_stocks.xs('Close',axis=1,level=1).corr(),annot=True,cmap='Blues')",
      "execution_count": null,
      "outputs": []
    },
    {
      "metadata": {
        "_uuid": "ed8f27e285b8a8f31339b4dfbaa10a5a15596c1a"
      },
      "cell_type": "markdown",
      "source": ""
    }
  ],
  "metadata": {
    "language_info": {
      "name": "python",
      "version": "3.6.6",
      "mimetype": "text/x-python",
      "codemirror_mode": {
        "name": "ipython",
        "version": 3
      },
      "pygments_lexer": "ipython3",
      "nbconvert_exporter": "python",
      "file_extension": ".py"
    },
    "kernelspec": {
      "display_name": "Python 3",
      "language": "python",
      "name": "python3"
    }
  },
  "nbformat": 4,
  "nbformat_minor": 1
}